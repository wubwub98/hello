{
  "cells": [
    {
      "cell_type": "markdown",
      "metadata": {
        "id": "view-in-github",
        "colab_type": "text"
      },
      "source": [
        "<a href=\"https://colab.research.google.com/github/wubwub98/hello/blob/main/CNN.ipynb\" target=\"_parent\"><img src=\"https://colab.research.google.com/assets/colab-badge.svg\" alt=\"Open In Colab\"/></a>"
      ]
    },
    {
      "cell_type": "markdown",
      "metadata": {
        "id": "J3YNuy9vDt_1"
      },
      "source": [
        "# Convolutional neural networks\n",
        "\n",
        "In this notebook, we'll put together our convolutional layers to implement a 3-layer CNN.  Then, we'll ask you to implement a CNN that can achieve > 65% validation error on CIFAR-10.\n",
        "\n",
        "CS231n has built a solid API for building these modular frameworks and training them, and we will use their very well implemented framework as opposed to \"reinventing the wheel.\"  This includes using their Solver, various utility functions, their layer structure, and their implementation of fast CNN layers.  This also includes nndl.fc_net, nndl.layers, and nndl.layer_utils.  As in prior assignments, we thank Serena Yeung & Justin Johnson for permission to use code written for the CS 231n class (cs231n.stanford.edu).  \n",
        "\n",
        "\n",
        "If you have not completed the Spatial BatchNorm Notebook, please see the following description from that notebook:\n",
        "\n",
        "Please copy and paste your prior implemented code from HW #4 to start this assignment.  If you did not correctly implement the layers in HW #4, you may collaborate with a classmate to use their layer implementations from HW #4.  You may also visit TA or Prof OH to correct your implementation.  \n",
        "\n",
        "You'll want to copy and paste from HW #4:\n",
        "    - layers.py for your FC network layers, as well as batchnorm and dropout.\n",
        "    - layer_utils.py for your combined FC network layers.\n",
        "    - optim.py for your optimizers.\n",
        "\n",
        "Be sure to place these in the `nndl/` directory so they're imported correctly.  Note, as announced in class, we will not be releasing our solutions."
      ]
    },
    {
      "cell_type": "code",
      "source": [
        "from google.colab import drive\n",
        "drive.mount('/content/drive')"
      ],
      "metadata": {
        "colab": {
          "base_uri": "https://localhost:8080/",
          "height": 0
        },
        "id": "vQMC4MYLPW-9",
        "outputId": "288749d0-250c-42ca-bdc7-a9be6cb22f9f"
      },
      "execution_count": 3,
      "outputs": [
        {
          "output_type": "stream",
          "name": "stdout",
          "text": [
            "Mounted at /content/drive\n"
          ]
        }
      ]
    },
    {
      "cell_type": "code",
      "execution_count": 4,
      "metadata": {
        "id": "JxKKxT9tDt_5"
      },
      "outputs": [],
      "source": [
        "# As usual, a bit of setup\n",
        "\n",
        "import numpy as np\n",
        "import matplotlib.pyplot as plt\n",
        "from drive.MyDrive.ECEC247.HW5.hw5.hw5.nndl.cnn import *\n",
        "from drive.MyDrive.ECEC247.HW5.hw5.hw5.cs231n.data_utils import get_CIFAR10_data\n",
        "from drive.MyDrive.ECEC247.HW5.hw5.hw5.cs231n.gradient_check import eval_numerical_gradient_array, eval_numerical_gradient\n",
        "from drive.MyDrive.ECEC247.HW5.hw5.hw5.nndl.layers import *\n",
        "from drive.MyDrive.ECEC247.HW5.hw5.hw5.nndl.conv_layers import *\n",
        "from drive.MyDrive.ECEC247.HW5.hw5.hw5.cs231n.fast_layers import *\n",
        "from drive.MyDrive.ECEC247.HW5.hw5.hw5.cs231n.solver import Solver\n",
        "\n",
        "%matplotlib inline\n",
        "plt.rcParams['figure.figsize'] = (10.0, 8.0) # set default size of plots\n",
        "plt.rcParams['image.interpolation'] = 'nearest'\n",
        "plt.rcParams['image.cmap'] = 'gray'\n",
        "\n",
        "# for auto-reloading external modules\n",
        "# see http://stackoverflow.com/questions/1907993/autoreload-of-modules-in-ipython\n",
        "%load_ext autoreload\n",
        "%autoreload 2\n",
        "\n",
        "def rel_error(x, y):\n",
        "  \"\"\" returns relative error \"\"\"\n",
        "  return np.max(np.abs(x - y) / (np.maximum(1e-8, np.abs(x) + np.abs(y))))"
      ]
    },
    {
      "cell_type": "code",
      "execution_count": 5,
      "metadata": {
        "id": "JVZxMi1VDt_7",
        "colab": {
          "base_uri": "https://localhost:8080/",
          "height": 0
        },
        "outputId": "3e541f05-cb24-4ea4-d7a9-9f7983400738"
      },
      "outputs": [
        {
          "output_type": "stream",
          "name": "stdout",
          "text": [
            "X_train: (49000, 3, 32, 32) \n",
            "y_train: (49000,) \n",
            "X_val: (1000, 3, 32, 32) \n",
            "y_val: (1000,) \n",
            "X_test: (1000, 3, 32, 32) \n",
            "y_test: (1000,) \n"
          ]
        }
      ],
      "source": [
        "# Load the (preprocessed) CIFAR10 data.\n",
        "\n",
        "data = get_CIFAR10_data()\n",
        "for k in data.keys():\n",
        "  print('{}: {} '.format(k, data[k].shape))"
      ]
    },
    {
      "cell_type": "markdown",
      "metadata": {
        "id": "MMsa26WYDt_7"
      },
      "source": [
        "## Three layer CNN\n",
        "\n",
        "In this notebook, you will implement a three layer CNN.  The `ThreeLayerConvNet` class is in `nndl/cnn.py`.  You'll need to modify that code for this section, including the initialization, as well as the calculation of the loss and gradients.  You should be able to use the building blocks you have either earlier coded or that we have provided.  Be sure to use the fast layers.\n",
        "\n",
        "The architecture of this CNN will be:\n",
        "\n",
        "conv - relu - 2x2 max pool - affine - relu - affine - softmax\n",
        "\n",
        "We won't use batchnorm yet.  You've also done enough of these to know how to debug; use the cells below.\n",
        "\n",
        "Note: As we are implementing several layers CNN networks. The gradient error can be expected for the `eval_numerical_gradient()` function. If your `W1 max relative error` and `W2 max relative error` are around or below 0.01, they should be acceptable. Other errors should be less than 1e-5."
      ]
    },
    {
      "cell_type": "code",
      "execution_count": 26,
      "metadata": {
        "id": "7kK2t8qHDt_8",
        "colab": {
          "base_uri": "https://localhost:8080/",
          "height": 0
        },
        "outputId": "2b12a10f-6f8a-4559-d3b1-cb6137386c00"
      },
      "outputs": [
        {
          "output_type": "stream",
          "name": "stdout",
          "text": [
            "W1 max relative error: 0.00025926922751966247\n",
            "W2 max relative error: 0.013408920569796836\n",
            "W3 max relative error: 0.00011029293703338636\n",
            "b1 max relative error: 4.044037442744617e-05\n",
            "b2 max relative error: 1.5873397151233894e-06\n",
            "b3 max relative error: 1.1979752740104905e-09\n"
          ]
        }
      ],
      "source": [
        "num_inputs = 2\n",
        "input_dim = (3, 16, 16)\n",
        "reg = 0.0\n",
        "num_classes = 10\n",
        "X = np.random.randn(num_inputs, *input_dim)\n",
        "y = np.random.randint(num_classes, size=num_inputs)\n",
        "\n",
        "model = ThreeLayerConvNet(num_filters=3, filter_size=3,\n",
        "                          input_dim=input_dim, hidden_dim=7,\n",
        "                          dtype=np.float64)\n",
        "loss, grads = model.loss(X, y)\n",
        "for param_name in sorted(grads):\n",
        "    f = lambda _: model.loss(X, y)[0]\n",
        "    param_grad_num = eval_numerical_gradient(f, model.params[param_name], verbose=False, h=1e-6)\n",
        "    e = rel_error(param_grad_num, grads[param_name])\n",
        "    print('{} max relative error: {}'.format(param_name, rel_error(param_grad_num, grads[param_name])))"
      ]
    },
    {
      "cell_type": "markdown",
      "metadata": {
        "id": "vdnzXTvnDt_8"
      },
      "source": [
        "### Overfit small dataset\n",
        "\n",
        "To check your CNN implementation, let's overfit a small dataset."
      ]
    },
    {
      "cell_type": "code",
      "execution_count": 25,
      "metadata": {
        "id": "LUdYmPWcDt_9",
        "colab": {
          "base_uri": "https://localhost:8080/",
          "height": 0
        },
        "outputId": "ff0c3fbc-07f1-4d3f-e157-74113c6adce4"
      },
      "outputs": [
        {
          "output_type": "stream",
          "name": "stdout",
          "text": [
            "(Iteration 1 / 20) loss: 2.330011\n",
            "(Epoch 0 / 10) train acc: 0.160000; val_acc: 0.119000\n",
            "(Iteration 2 / 20) loss: 4.330608\n",
            "(Epoch 1 / 10) train acc: 0.210000; val_acc: 0.124000\n",
            "(Iteration 3 / 20) loss: 2.988270\n",
            "(Iteration 4 / 20) loss: 3.333615\n",
            "(Epoch 2 / 10) train acc: 0.240000; val_acc: 0.091000\n",
            "(Iteration 5 / 20) loss: 3.178027\n",
            "(Iteration 6 / 20) loss: 2.802133\n",
            "(Epoch 3 / 10) train acc: 0.260000; val_acc: 0.129000\n",
            "(Iteration 7 / 20) loss: 2.501993\n",
            "(Iteration 8 / 20) loss: 2.065136\n",
            "(Epoch 4 / 10) train acc: 0.350000; val_acc: 0.147000\n",
            "(Iteration 9 / 20) loss: 2.253791\n",
            "(Iteration 10 / 20) loss: 2.064956\n",
            "(Epoch 5 / 10) train acc: 0.510000; val_acc: 0.210000\n",
            "(Iteration 11 / 20) loss: 1.556296\n",
            "(Iteration 12 / 20) loss: 1.348147\n",
            "(Epoch 6 / 10) train acc: 0.470000; val_acc: 0.210000\n",
            "(Iteration 13 / 20) loss: 1.341415\n",
            "(Iteration 14 / 20) loss: 1.382285\n",
            "(Epoch 7 / 10) train acc: 0.470000; val_acc: 0.190000\n",
            "(Iteration 15 / 20) loss: 1.788483\n",
            "(Iteration 16 / 20) loss: 1.375257\n",
            "(Epoch 8 / 10) train acc: 0.540000; val_acc: 0.191000\n",
            "(Iteration 17 / 20) loss: 1.567765\n",
            "(Iteration 18 / 20) loss: 0.969885\n",
            "(Epoch 9 / 10) train acc: 0.650000; val_acc: 0.187000\n",
            "(Iteration 19 / 20) loss: 1.096889\n",
            "(Iteration 20 / 20) loss: 0.971596\n",
            "(Epoch 10 / 10) train acc: 0.710000; val_acc: 0.202000\n"
          ]
        }
      ],
      "source": [
        "num_train = 100\n",
        "small_data = {\n",
        "  'X_train': data['X_train'][:num_train],\n",
        "  'y_train': data['y_train'][:num_train],\n",
        "  'X_val': data['X_val'],\n",
        "  'y_val': data['y_val'],\n",
        "}\n",
        "\n",
        "model = ThreeLayerConvNet(weight_scale=1e-2)\n",
        "\n",
        "solver = Solver(model, small_data,\n",
        "                num_epochs=10, batch_size=50,\n",
        "                update_rule='adam',\n",
        "                optim_config={\n",
        "                  'learning_rate': 1e-3,\n",
        "                },\n",
        "                verbose=True, print_every=1)\n",
        "solver.train()"
      ]
    },
    {
      "cell_type": "code",
      "execution_count": 27,
      "metadata": {
        "id": "3ZqRoZTbDt_9",
        "colab": {
          "base_uri": "https://localhost:8080/",
          "height": 696
        },
        "outputId": "39fb1329-ff40-45cc-a82e-c163c1c9a014"
      },
      "outputs": [
        {
          "output_type": "display_data",
          "data": {
            "text/plain": [
              "<Figure size 1000x800 with 2 Axes>"
            ],
            "image/png": "[encoded data removed]"
          },
          "metadata": {}
        }
      ],
      "source": [
        "plt.subplot(2, 1, 1)\n",
        "plt.plot(solver.loss_history, 'o')\n",
        "plt.xlabel('iteration')\n",
        "plt.ylabel('loss')\n",
        "\n",
        "plt.subplot(2, 1, 2)\n",
        "plt.plot(solver.train_acc_history, '-o')\n",
        "plt.plot(solver.val_acc_history, '-o')\n",
        "plt.legend(['train', 'val'], loc='upper left')\n",
        "plt.xlabel('epoch')\n",
        "plt.ylabel('accuracy')\n",
        "plt.show()"
      ]
    },
    {
      "cell_type": "markdown",
      "metadata": {
        "id": "sXs6zEV_Dt_9"
      },
      "source": [
        "## Train the network\n",
        "\n",
        "Now we train the 3 layer CNN on CIFAR-10 and assess its accuracy."
      ]
    },
    {
      "cell_type": "code",
      "execution_count": 28,
      "metadata": {
        "scrolled": false,
        "id": "nkzOFsR3Dt_-",
        "colab": {
          "base_uri": "https://localhost:8080/",
          "height": 0
        },
        "outputId": "d2e561e6-60f9-4ee8-cf3a-b43ff36154f8"
      },
      "outputs": [
        {
          "output_type": "stream",
          "name": "stdout",
          "text": [
            "(Iteration 1 / 980) loss: 2.304503\n",
            "(Epoch 0 / 1) train acc: 0.112000; val_acc: 0.128000\n",
            "(Iteration 21 / 980) loss: 2.020958\n",
            "(Iteration 41 / 980) loss: 1.967357\n",
            "(Iteration 61 / 980) loss: 1.983352\n",
            "(Iteration 81 / 980) loss: 2.385680\n",
            "(Iteration 101 / 980) loss: 1.759114\n",
            "(Iteration 121 / 980) loss: 1.819028\n",
            "(Iteration 141 / 980) loss: 1.517707\n",
            "(Iteration 161 / 980) loss: 1.617100\n",
            "(Iteration 181 / 980) loss: 1.741146\n",
            "(Iteration 201 / 980) loss: 1.746313\n",
            "(Iteration 221 / 980) loss: 1.655037\n",
            "(Iteration 241 / 980) loss: 1.504372\n",
            "(Iteration 261 / 980) loss: 1.791794\n",
            "(Iteration 281 / 980) loss: 1.577588\n",
            "(Iteration 301 / 980) loss: 1.637890\n",
            "(Iteration 321 / 980) loss: 1.699635\n",
            "(Iteration 341 / 980) loss: 1.883953\n",
            "(Iteration 361 / 980) loss: 1.610175\n",
            "(Iteration 381 / 980) loss: 1.728406\n",
            "(Iteration 401 / 980) loss: 1.490210\n",
            "(Iteration 421 / 980) loss: 1.496546\n",
            "(Iteration 441 / 980) loss: 1.635583\n",
            "(Iteration 461 / 980) loss: 1.621603\n",
            "(Iteration 481 / 980) loss: 1.657714\n",
            "(Iteration 501 / 980) loss: 1.818500\n",
            "(Iteration 521 / 980) loss: 1.582518\n",
            "(Iteration 541 / 980) loss: 1.901275\n",
            "(Iteration 561 / 980) loss: 1.292622\n",
            "(Iteration 581 / 980) loss: 1.577428\n",
            "(Iteration 601 / 980) loss: 1.522521\n",
            "(Iteration 621 / 980) loss: 1.708147\n",
            "(Iteration 641 / 980) loss: 1.533009\n",
            "(Iteration 661 / 980) loss: 1.758341\n",
            "(Iteration 681 / 980) loss: 1.709721\n",
            "(Iteration 701 / 980) loss: 1.650060\n",
            "(Iteration 721 / 980) loss: 1.722829\n",
            "(Iteration 741 / 980) loss: 1.446217\n",
            "(Iteration 761 / 980) loss: 1.643990\n",
            "(Iteration 781 / 980) loss: 1.437721\n",
            "(Iteration 801 / 980) loss: 1.468553\n",
            "(Iteration 821 / 980) loss: 1.663379\n",
            "(Iteration 841 / 980) loss: 1.726556\n",
            "(Iteration 861 / 980) loss: 1.573664\n",
            "(Iteration 881 / 980) loss: 1.348166\n",
            "(Iteration 901 / 980) loss: 1.448284\n",
            "(Iteration 921 / 980) loss: 1.482255\n",
            "(Iteration 941 / 980) loss: 1.688764\n",
            "(Iteration 961 / 980) loss: 1.585298\n",
            "(Epoch 1 / 1) train acc: 0.457000; val_acc: 0.459000\n"
          ]
        }
      ],
      "source": [
        "model = ThreeLayerConvNet(weight_scale=0.001, hidden_dim=500, reg=0.001)\n",
        "\n",
        "solver = Solver(model, data,\n",
        "                num_epochs=1, batch_size=50,\n",
        "                update_rule='adam',\n",
        "                optim_config={\n",
        "                  'learning_rate': 1e-3,\n",
        "                },\n",
        "                verbose=True, print_every=20)\n",
        "solver.train()"
      ]
    },
    {
      "cell_type": "markdown",
      "metadata": {
        "id": "3HHLn6PgDt_-"
      },
      "source": [
        "# Get > 65% validation accuracy on CIFAR-10.\n",
        "\n",
        "In the last part of the assignment, we'll now ask you to train a CNN to get better than 65% validation accuracy on CIFAR-10.\n",
        "\n",
        "### Things you should try:\n",
        "- Filter size: Above we used 7x7; but VGGNet and onwards showed stacks of 3x3 filters are good.  \n",
        "- Number of filters: Above we used 32 filters. Do more or fewer do better?\n",
        "- Batch normalization: Try adding spatial batch normalization after convolution layers and vanilla batch normalization aafter affine layers. Do your networks train faster?\n",
        "- Network architecture: Can a deeper CNN do better?  Consider these architectures:\n",
        "    - [conv-relu-pool]xN - conv - relu - [affine]xM - [softmax or SVM]\n",
        "    - [conv-relu-pool]XN - [affine]XM - [softmax or SVM]\n",
        "    - [conv-relu-conv-relu-pool]xN - [affine]xM - [softmax or SVM]\n",
        "\n",
        "### Tips for training\n",
        "For each network architecture that you try, you should tune the learning rate and regularization strength. When doing this there are a couple important things to keep in mind:\n",
        "\n",
        "- If the parameters are working well, you should see improvement within a few hundred iterations\n",
        "- Remember the coarse-to-fine approach for hyperparameter tuning: start by testing a large range of hyperparameters for just a few training iterations to find the combinations of parameters that are working at all.\n",
        "- Once you have found some sets of parameters that seem to work, search more finely around these parameters. You may need to train for more epochs."
      ]
    },
    {
      "cell_type": "code",
      "execution_count": 6,
      "metadata": {
        "scrolled": false,
        "id": "p39K_ZpXDt__",
        "colab": {
          "base_uri": "https://localhost:8080/",
          "height": 0
        },
        "outputId": "eb79fd0a-ae99-4b7c-907e-542bb9167d23"
      },
      "outputs": [
        {
          "output_type": "stream",
          "name": "stdout",
          "text": [
            "(Iteration 1 / 1400) loss: 2.303844\n",
            "(Epoch 0 / 10) train acc: 0.088000; val_acc: 0.105000\n",
            "(Iteration 21 / 1400) loss: 1.860289\n",
            "(Iteration 41 / 1400) loss: 1.653005\n",
            "(Iteration 61 / 1400) loss: 1.573831\n",
            "(Iteration 81 / 1400) loss: 1.572394\n",
            "(Iteration 101 / 1400) loss: 1.363400\n",
            "(Iteration 121 / 1400) loss: 1.425179\n",
            "(Epoch 1 / 10) train acc: 0.507000; val_acc: 0.505000\n",
            "(Iteration 141 / 1400) loss: 1.474842\n",
            "(Iteration 161 / 1400) loss: 1.347940\n",
            "(Iteration 181 / 1400) loss: 1.277767\n",
            "(Iteration 201 / 1400) loss: 1.189121\n",
            "(Iteration 221 / 1400) loss: 1.235995\n",
            "(Iteration 241 / 1400) loss: 1.169977\n",
            "(Iteration 261 / 1400) loss: 1.232760\n",
            "(Epoch 2 / 10) train acc: 0.626000; val_acc: 0.593000\n",
            "(Iteration 281 / 1400) loss: 1.137989\n",
            "(Iteration 301 / 1400) loss: 1.179161\n",
            "(Iteration 321 / 1400) loss: 1.196086\n",
            "(Iteration 341 / 1400) loss: 1.055529\n",
            "(Iteration 361 / 1400) loss: 1.145311\n",
            "(Iteration 381 / 1400) loss: 1.167176\n",
            "(Iteration 401 / 1400) loss: 1.211288\n",
            "(Epoch 3 / 10) train acc: 0.652000; val_acc: 0.602000\n",
            "(Iteration 421 / 1400) loss: 1.061512\n",
            "(Iteration 441 / 1400) loss: 0.943574\n",
            "(Iteration 461 / 1400) loss: 1.153924\n",
            "(Iteration 481 / 1400) loss: 1.125613\n",
            "(Iteration 501 / 1400) loss: 1.071635\n",
            "(Iteration 521 / 1400) loss: 1.061548\n",
            "(Iteration 541 / 1400) loss: 0.999003\n",
            "(Epoch 4 / 10) train acc: 0.678000; val_acc: 0.619000\n",
            "(Iteration 561 / 1400) loss: 0.996962\n",
            "(Iteration 581 / 1400) loss: 0.990007\n",
            "(Iteration 601 / 1400) loss: 1.129141\n",
            "(Iteration 621 / 1400) loss: 0.874215\n",
            "(Iteration 641 / 1400) loss: 0.949372\n",
            "(Iteration 661 / 1400) loss: 1.041615\n",
            "(Iteration 681 / 1400) loss: 0.947924\n",
            "(Epoch 5 / 10) train acc: 0.708000; val_acc: 0.620000\n",
            "(Iteration 701 / 1400) loss: 1.009352\n",
            "(Iteration 721 / 1400) loss: 1.010744\n",
            "(Iteration 741 / 1400) loss: 0.987888\n",
            "(Iteration 761 / 1400) loss: 0.973781\n",
            "(Iteration 781 / 1400) loss: 0.913509\n",
            "(Iteration 801 / 1400) loss: 0.954831\n",
            "(Iteration 821 / 1400) loss: 0.897189\n",
            "(Epoch 6 / 10) train acc: 0.725000; val_acc: 0.634000\n",
            "(Iteration 841 / 1400) loss: 0.986071\n",
            "(Iteration 861 / 1400) loss: 0.867497\n",
            "(Iteration 881 / 1400) loss: 0.955799\n",
            "(Iteration 901 / 1400) loss: 0.939211\n",
            "(Iteration 921 / 1400) loss: 0.881851\n",
            "(Iteration 941 / 1400) loss: 0.917202\n",
            "(Iteration 961 / 1400) loss: 0.824830\n",
            "(Epoch 7 / 10) train acc: 0.744000; val_acc: 0.648000\n",
            "(Iteration 981 / 1400) loss: 0.872655\n",
            "(Iteration 1001 / 1400) loss: 1.048533\n",
            "(Iteration 1021 / 1400) loss: 0.846529\n",
            "(Iteration 1041 / 1400) loss: 0.979005\n",
            "(Iteration 1061 / 1400) loss: 0.912227\n",
            "(Iteration 1081 / 1400) loss: 0.901141\n",
            "(Iteration 1101 / 1400) loss: 0.831125\n",
            "(Epoch 8 / 10) train acc: 0.763000; val_acc: 0.636000\n",
            "(Iteration 1121 / 1400) loss: 0.775460\n",
            "(Iteration 1141 / 1400) loss: 0.856969\n",
            "(Iteration 1161 / 1400) loss: 0.837894\n",
            "(Iteration 1181 / 1400) loss: 0.728442\n",
            "(Iteration 1201 / 1400) loss: 0.727657\n",
            "(Iteration 1221 / 1400) loss: 0.730742\n",
            "(Iteration 1241 / 1400) loss: 0.863358\n",
            "(Epoch 9 / 10) train acc: 0.738000; val_acc: 0.638000\n",
            "(Iteration 1261 / 1400) loss: 0.873522\n",
            "(Iteration 1281 / 1400) loss: 0.791407\n",
            "(Iteration 1301 / 1400) loss: 0.745291\n",
            "(Iteration 1321 / 1400) loss: 0.825904\n",
            "(Iteration 1341 / 1400) loss: 0.830280\n",
            "(Iteration 1361 / 1400) loss: 0.755689\n",
            "(Iteration 1381 / 1400) loss: 0.838668\n",
            "(Epoch 10 / 10) train acc: 0.781000; val_acc: 0.673000\n",
            "achieved 65% validation accuracy\n"
          ]
        }
      ],
      "source": [
        "# ================================================================ #\n",
        "# YOUR CODE HERE:\n",
        "#   Implement a CNN to achieve greater than 65% validation accuracy\n",
        "#   on CIFAR-10.\n",
        "# ================================================================ #\n",
        "\n",
        "model = ThreeLayerConvNet(weight_scale=0.001, hidden_dim=300, reg=0.001)\n",
        "\n",
        "solver = Solver(model, data,\n",
        "                num_epochs=10, batch_size=350,\n",
        "                update_rule='adam',\n",
        "                optim_config={\n",
        "                  'learning_rate': 1e-3,\n",
        "                },\n",
        "                verbose=True, print_every=20)\n",
        "solver.train()\n",
        "# ================================================================ #\n",
        "# END YOUR CODE HERE\n",
        "# ================================================================ #\n"
      ]
    }
  ],
  "metadata": {
    "kernelspec": {
      "display_name": "Python 3",
      "name": "python3"
    },
    "language_info": {
      "codemirror_mode": {
        "name": "ipython",
        "version": 3
      },
      "file_extension": ".py",
      "mimetype": "text/x-python",
      "name": "python",
      "nbconvert_exporter": "python",
      "pygments_lexer": "ipython3",
      "version": "3.8.19"
    },
    "colab": {
      "provenance": [],
      "gpuType": "T4",
      "include_colab_link": true
    },
    "accelerator": "GPU"
  },
  "nbformat": 4,
  "nbformat_minor": 0
}